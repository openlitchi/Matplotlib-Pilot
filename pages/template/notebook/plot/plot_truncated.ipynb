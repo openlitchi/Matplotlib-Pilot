{
 "cells": [
  {
   "cell_type": "markdown",
   "metadata": {},
   "source": [
    "# Truncated Axis\n",
    "\n",
    "## 1. Import matplotlib and numpy"
   ]
  },
  {
   "cell_type": "code",
   "execution_count": 1,
   "metadata": {},
   "outputs": [],
   "source": [
    "import matplotlib.pyplot as plt \n",
    "import numpy as np\n",
    "from matplotlib import font_manager\n",
    "\n",
    "\n",
    "plt.rcParams['font.size'] = 10\n",
    "\n",
    "plt.rcParams['xtick.direction'] = 'in'\n",
    "plt.rcParams['ytick.direction'] = 'in'\n"
   ]
  },
  {
   "cell_type": "markdown",
   "metadata": {},
   "source": [
    "## 2. Prepare Data"
   ]
  },
  {
   "cell_type": "code",
   "execution_count": 16,
   "metadata": {},
   "outputs": [],
   "source": [
    "x = [1, 2, 3, 4, 5, 6, 7]\n",
    "y1 = [0.31, 0.37, 0.42, 0.41, 0.35, 0.32, 0.30]\n",
    "y2 = [0.27, 0.31, 0.388, 4.4, 4.5, 3.9, 3.6]"
   ]
  },
  {
   "cell_type": "markdown",
   "metadata": {},
   "source": [
    "## 3. Call Plot API"
   ]
  },
  {
   "cell_type": "code",
   "execution_count": 35,
   "metadata": {},
   "outputs": [
    {
     "data": {
      "image/png": "[encoded data removed]",
      "text/plain": [
       "<Figure size 350x300 with 2 Axes>"
      ]
     },
     "metadata": {},
     "output_type": "display_data"
    }
   ],
   "source": [
    "fig, (ax1, ax2) = plt.subplots(2, 1, \n",
    "                               sharex=True, \n",
    "                               figsize=(3.5, 3),\n",
    "                               gridspec_kw={'height_ratios':[2,1]})\n",
    "fig.subplots_adjust(hspace=0.05)  # adjust space between axes\n",
    "\n",
    "_ = ax1.plot(x, y1, color='r', marker='s', ls='-', label='data: y1')\n",
    "_ = ax1.plot(x, y2, color='b', marker='o', ls='-', label='data: y2')\n",
    "\n",
    "_ = ax2.plot(x, y1, color='r', marker='s', ls='-', label='data: y1')\n",
    "_ = ax2.plot(x, y2, color='b', marker='o', ls='-', label='data: y2')\n",
    "\n",
    "# zoom-in / limit the view to different portions of the data\n",
    "ax2.set_ylim(0.25, 0.55)  # outliers only\n",
    "ax1.set_ylim(3.4, 5.0)  # most of the data\n",
    "\n",
    "# hide the spines between ax and ax2\n",
    "ax1.spines.bottom.set_visible(False)\n",
    "ax2.spines.top.set_visible(False)\n",
    "ax1.xaxis.tick_top()\n",
    "ax1.tick_params(labeltop=False)  # don't put tick labels at the top\n",
    "ax2.xaxis.tick_bottom()\n",
    "\n",
    "\n",
    "d = 0.7  # proportion of vertical to horizontal extent of the slanted line\n",
    "kwargs = dict(marker=[(-1, -d), (1, d)], markersize=12,\n",
    "              linestyle=\"none\", color='k', mec='k', mew=2, clip_on=False)\n",
    "ax1.plot([0, 1], [0, 0], transform=ax1.transAxes, **kwargs)\n",
    "ax2.plot([0, 1], [1, 1], transform=ax2.transAxes, **kwargs)\n",
    "\n",
    "# 保存图片\n",
    "# plt.savefig('demo.png', dpi=300, bbox_inches='tight')\n",
    "\n",
    "ax1.legend(frameon=False)\n",
    "plt.show()"
   ]
  }
 ],
 "metadata": {
  "kernelspec": {
   "display_name": "Python 3",
   "language": "python",
   "name": "python3"
  },
  "language_info": {
   "codemirror_mode": {
    "name": "ipython",
    "version": 3
   },
   "file_extension": ".py",
   "mimetype": "text/x-python",
   "name": "python",
   "nbconvert_exporter": "python",
   "pygments_lexer": "ipython3",
   "version": "3.11.7"
  }
 },
 "nbformat": 4,
 "nbformat_minor": 2
}
