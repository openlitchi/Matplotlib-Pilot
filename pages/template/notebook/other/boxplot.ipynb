{
 "cells": [
  {
   "cell_type": "markdown",
   "metadata": {},
   "source": [
    "# Box plot statistical\n",
    "\n",
    "## 1. Import matplotlib and numpy"
   ]
  },
  {
   "cell_type": "code",
   "execution_count": 5,
   "metadata": {},
   "outputs": [],
   "source": [
    "import matplotlib.pyplot as plt \n",
    "import numpy as np\n",
    "from matplotlib import font_manager\n",
    "\n",
    "\n",
    "plt.rcParams['font.size'] = 10\n",
    "\n",
    "plt.rcParams['xtick.direction'] = 'in'\n",
    "plt.rcParams['ytick.direction'] = 'in'"
   ]
  },
  {
   "cell_type": "markdown",
   "metadata": {},
   "source": [
    "## 2. Prepare Data"
   ]
  },
  {
   "cell_type": "code",
   "execution_count": 6,
   "metadata": {},
   "outputs": [],
   "source": [
    "np.random.seed(341126)\n",
    "N = 1<< 10\n",
    "\n",
    "data = np.zeros((N,4))\n",
    "data[:,0] = np.random.random(N)\n",
    "data[:,1] = 0.5*np.random.random(N)\n",
    "data[:,2] = np.random.random(N) + 0.2\n",
    "data[:,3] = 1.5*np.random.random(N) - 0.2"
   ]
  },
  {
   "cell_type": "markdown",
   "metadata": {},
   "source": [
    "## 3. Call Plot API"
   ]
  },
  {
   "cell_type": "code",
   "execution_count": 7,
   "metadata": {},
   "outputs": [
    {
     "data": {
      "image/png": "[encoded data removed]",
      "text/plain": [
       "<Figure size 500x400 with 1 Axes>"
      ]
     },
     "metadata": {},
     "output_type": "display_data"
    }
   ],
   "source": [
    "fig, ax = plt.subplots(figsize=(5,4))\n",
    "\n",
    "boxprops = dict(\n",
    "    facecolor='#ffaaaa',\n",
    "    lw=1,\n",
    "    color='k'\n",
    ")\n",
    "\n",
    "medianprops = dict(\n",
    "    color='k'\n",
    ")\n",
    "\n",
    "_ = ax.boxplot(data, \n",
    "               patch_artist=True,\n",
    "               boxprops=boxprops,\n",
    "               medianprops=medianprops\n",
    "            )\n",
    "\n",
    "ax.set_xticklabels([\"A\", \"B\", \"C\", \"D\"])\n",
    "ax.set_ylabel(\"y / unit\")\n",
    "# plt.savefig('demo.png', dpi=300, bbox_inches='tight')\n",
    "\n",
    "plt.show()"
   ]
  }
 ],
 "metadata": {
  "kernelspec": {
   "display_name": "Python 3",
   "language": "python",
   "name": "python3"
  },
  "language_info": {
   "codemirror_mode": {
    "name": "ipython",
    "version": 3
   },
   "file_extension": ".py",
   "mimetype": "text/x-python",
   "name": "python",
   "nbconvert_exporter": "python",
   "pygments_lexer": "ipython3",
   "version": "3.11.7"
  }
 },
 "nbformat": 4,
 "nbformat_minor": 2
}
