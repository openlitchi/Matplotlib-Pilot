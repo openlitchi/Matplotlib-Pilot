{
 "cells": [
  {
   "cell_type": "markdown",
   "metadata": {},
   "source": [
    "# Cross coordinate\n",
    "\n",
    "## 1. Import matplotlib and numpy"
   ]
  },
  {
   "cell_type": "code",
   "execution_count": 1,
   "metadata": {},
   "outputs": [],
   "source": [
    "import matplotlib.pyplot as plt\n",
    "import numpy as np\n",
    "from mpl_toolkits.axisartist.axislines import AxesZero\n",
    "\n",
    "\n",
    "plt.rcParams['font.size'] = 10\n",
    "\n",
    "plt.rcParams['xtick.direction'] = 'in'\n",
    "plt.rcParams['ytick.direction'] = 'in'\n"
   ]
  },
  {
   "cell_type": "markdown",
   "metadata": {},
   "source": [
    "## 2. Prepare Data"
   ]
  },
  {
   "cell_type": "code",
   "execution_count": 6,
   "metadata": {},
   "outputs": [],
   "source": [
    "x = np.linspace(-0.5, 1., 100)\n",
    "y = np.sin(x*np.pi)"
   ]
  },
  {
   "cell_type": "markdown",
   "metadata": {},
   "source": [
    "## 3. Call Plot API"
   ]
  },
  {
   "cell_type": "code",
   "execution_count": 17,
   "metadata": {},
   "outputs": [
    {
     "data": {
      "image/png": "[encoded data removed]",
      "text/plain": [
       "<Figure size 350x300 with 1 Axes>"
      ]
     },
     "metadata": {},
     "output_type": "display_data"
    }
   ],
   "source": [
    "fig = plt.figure(figsize=(3.5, 3))\n",
    "ax = fig.add_subplot(axes_class=AxesZero)\n",
    "\n",
    "for direction in [\"xzero\", \"yzero\"]:\n",
    "    # adds arrows at the ends of each axis\n",
    "    ax.axis[direction].set_axisline_style(\"-|>\")\n",
    "\n",
    "    # adds X and Y-axis from the origin\n",
    "    ax.axis[direction].set_visible(True)\n",
    "\n",
    "for direction in [\"left\", \"right\", \"bottom\", \"top\"]:\n",
    "    # hides borders\n",
    "    ax.axis[direction].set_visible(False)\n",
    "    \n",
    "ax.plot(x, y, color='r', marker='s', alpha=0.65, markevery=5)\n",
    "\n",
    "# plt.savefig('demo.png', dpi=300, bbox_inches='tight')\n",
    "plt.savefig('./cover/axis_style.png', dpi=100, bbox_inches='tight')\n",
    "\n",
    "plt.show()\n"
   ]
  }
 ],
 "metadata": {
  "kernelspec": {
   "display_name": "Python 3",
   "language": "python",
   "name": "python3"
  },
  "language_info": {
   "codemirror_mode": {
    "name": "ipython",
    "version": 3
   },
   "file_extension": ".py",
   "mimetype": "text/x-python",
   "name": "python",
   "nbconvert_exporter": "python",
   "pygments_lexer": "ipython3",
   "version": "3.11.7"
  }
 },
 "nbformat": 4,
 "nbformat_minor": 2
}
