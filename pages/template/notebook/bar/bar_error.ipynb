{
 "cells": [
  {
   "cell_type": "markdown",
   "metadata": {},
   "source": [
    "# Bar with error info\n",
    "\n",
    "## 1. Import matplotlib and numpy"
   ]
  },
  {
   "cell_type": "code",
   "execution_count": 1,
   "metadata": {},
   "outputs": [],
   "source": [
    "import matplotlib.pyplot as plt \n",
    "import numpy as np\n",
    "from matplotlib import font_manager\n",
    "\n",
    "\n",
    "plt.rcParams['font.size'] = 10\n",
    "\n",
    "plt.rcParams['xtick.direction'] = 'in'\n",
    "plt.rcParams['ytick.direction'] = 'in'"
   ]
  },
  {
   "cell_type": "markdown",
   "metadata": {},
   "source": [
    "## 2. Prepare Data"
   ]
  },
  {
   "cell_type": "code",
   "execution_count": 2,
   "metadata": {},
   "outputs": [],
   "source": [
    "bar_labels = ['A', 'B', 'C', 'D', 'E']\n",
    "bar_values = [0.1, 0.3, 0.45, 0.35, 0.25]\n",
    "bar_error = [0.02, 0.05, 0.07, 0.06, 0.05]"
   ]
  },
  {
   "cell_type": "markdown",
   "metadata": {},
   "source": [
    "\n",
    "\n",
    "## 3. Call Plot API"
   ]
  },
  {
   "cell_type": "code",
   "execution_count": 13,
   "metadata": {},
   "outputs": [
    {
     "data": {
      "image/png": "[encoded data removed]",
      "text/plain": [
       "<Figure size 350x300 with 1 Axes>"
      ]
     },
     "metadata": {},
     "output_type": "display_data"
    }
   ],
   "source": [
    "fig, ax = plt.subplots(figsize=(3.5, 3))\n",
    "\n",
    "# parameter of error stick\n",
    "err_attr = {\n",
    "    \"elinewidth\": 1,  # 误差线的宽度\n",
    "    \"ecolor\": \"darkred\",  # 误差线的颜色\n",
    "    \"capsize\": 5,      # 误差棒末端帽的大小\n",
    "}\n",
    "\n",
    "_ = ax.bar(bar_labels, \n",
    "           bar_values, \n",
    "           yerr=bar_error, \n",
    "           color='salmon',\n",
    "           error_kw=err_attr)\n",
    "\n",
    "ax.set_xlabel(\"x label\")\n",
    "ax.set_ylabel(\"y / unit\")\n",
    "\n",
    "# plt.savefig('demo.png', dpi=300, bbox_inches='tight')\n",
    "\n",
    "\n",
    "plt.show()"
   ]
  }
 ],
 "metadata": {
  "kernelspec": {
   "display_name": "Python 3",
   "language": "python",
   "name": "python3"
  },
  "language_info": {
   "codemirror_mode": {
    "name": "ipython",
    "version": 3
   },
   "file_extension": ".py",
   "mimetype": "text/x-python",
   "name": "python",
   "nbconvert_exporter": "python",
   "pygments_lexer": "ipython3",
   "version": "3.11.7"
  }
 },
 "nbformat": 4,
 "nbformat_minor": 2
}
