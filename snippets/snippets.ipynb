{
 "cells": [
  {
   "cell_type": "code",
   "execution_count": 1,
   "metadata": {},
   "outputs": [],
   "source": [
    "# {\"name\": \"import\", \"title\": \"import matplotlib and numpy\"} \n",
    "import matplotlib.pyplot as plt \n",
    "import numpy as np\n",
    "\n",
    "# Set the tick direction inward. By default, it is `out``\n",
    "plt.rcParams['xtick.direction'] = 'in'\n",
    "plt.rcParams['ytick.direction'] = 'in'\n"
   ]
  },
  {
   "cell_type": "code",
   "execution_count": 3,
   "metadata": {},
   "outputs": [],
   "source": [
    "# {\"name\": \"Font\", \"title\": \"Configure local fonts.\"} \n",
    "from matplotlib import font_manager\n",
    "\n",
    "font_path = 'C:\\\\Windows\\\\Fonts\\\\Times.ttf' # Font path\n",
    "font_manager.fontManager.addfont(font_path)\n",
    "prop = font_manager.FontProperties(fname=font_path)\n",
    "\n",
    "plt.rcParams['font.family'] = prop.get_name()\n",
    "plt.rcParams['mathtext.fontset'] = 'stix' # 'stix' | 'cm'\n",
    "plt.rcParams['font.size'] = 10\n"
   ]
  },
  {
   "cell_type": "markdown",
   "metadata": {},
   "source": [
    "## Load Data"
   ]
  },
  {
   "cell_type": "code",
   "execution_count": null,
   "metadata": {},
   "outputs": [],
   "source": [
    "# {\"name\": \"CSV | TXT\", \"title\": \"load data in ascii format\"} \n",
    "# fname: filename\n",
    "# dtype: data type， float | int \n",
    "# skiprows: Skip the first few lines of the file.\n",
    "# delimiter: Skip the first few lines of the file. ',' | ' '\n",
    "data = np.loadtxt(fname=r'./data.csv', dtype=float, skiprows=1, delimiter=',')\n"
   ]
  },
  {
   "cell_type": "code",
   "execution_count": null,
   "metadata": {},
   "outputs": [],
   "source": [
    "# {\"name\": \"NumPy\", \"title\": \"load data in numpy format\"} \n",
    "data = np.load(file=r'./data.npy')\n"
   ]
  },
  {
   "cell_type": "markdown",
   "metadata": {},
   "source": [
    "## Plot API"
   ]
  },
  {
   "cell_type": "code",
   "execution_count": null,
   "metadata": {},
   "outputs": [],
   "source": [
    "# {\"name\": \"Line\", \"title\": \"Create a line chart.\"} \n",
    "fig, ax = plt.subplots(figsize=(3.5, 3))\n",
    "\n",
    "_ = ax.plot(x, y, 'rs-', label='label')\n",
    "_ = ax.legend(frameon=False, loc=0, title='')\n",
    "\n",
    "ax.set_xlabel(\"x/unit\")\n",
    "ax.set_ylabel(\"y/unit\")\n"
   ]
  },
  {
   "cell_type": "code",
   "execution_count": null,
   "metadata": {},
   "outputs": [],
   "source": [
    "# {\"name\": \"bar\", \"title\": \"Create column charts and bar charts.\"} \n",
    "fig, ax = plt.subplots(figsize=(3.5, 3))\n",
    "\n",
    "# `bar_labels` is a list of strings. `bar_values` is a list of numbers with the same length as `bar_labels`.\n",
    "bars = ax.bar(bar_labels, bar_values, color='salmon')\n",
    "\n",
    "# Add numerical labels to bars.\n",
    "ax.bar_label(bars, padding=3)\n",
    "\n",
    "ax.set_xlabel(\"x/unit\")\n",
    "ax.set_ylabel(\"y/unit\")\n"
   ]
  },
  {
   "cell_type": "code",
   "execution_count": null,
   "metadata": {},
   "outputs": [],
   "source": [
    "# {\"name\": \"Scatter\", \"title\": \"Create a scatter plot.\"} \n",
    "fig, ax = plt.subplots(figsize=(3.5, 3))\n",
    "\n",
    "_ = ax.scatter(x, y, color='salmon', s=24, label='label')\n",
    "_ = ax.legend(frameon=False, loc=0, title='')\n",
    "\n",
    "ax.set_xlabel(\"x/unit\")\n",
    "ax.set_ylabel(\"y/unit\")\n"
   ]
  },
  {
   "cell_type": "code",
   "execution_count": null,
   "metadata": {},
   "outputs": [],
   "source": [
    "# {\"name\": \"imshow\", \"title\": \"The imshow function can also be used for heat maps. It requires a two-dimensional array as input.\"} \n",
    "fig, ax = plt.subplots(figsize=(5,4))\n",
    "im = ax.imshow(array2d, cmap='coolwarm')\n",
    "\n",
    "fig.colorbar(im, \n",
    "             ax=ax, \n",
    "             label='Interactive colorbar', \n",
    "             pad=0.05,\n",
    "             shrink=1.00)\n"
   ]
  },
  {
   "cell_type": "code",
   "execution_count": null,
   "metadata": {},
   "outputs": [],
   "source": [
    "# {\"name\": \"Error Line\", \"title\": \"Line chart with error information. Supports different upper and lower errors.\"} \n",
    "fig, ax = plt.subplots(figsize=(3.5,3))  \n",
    "\n",
    "ax.errorbar(x, y, yerr, \n",
    "    ls=':',  c='orangered', marker='s', \n",
    "    capsize=4, capthick=2, ecolor='k', \n",
    "    alpha=0.75, label='y data')\n",
    "\n",
    "ax.legend(frameon=False, loc=0)\n",
    "ax.set_xlabel('x / m')\n",
    "ax.set_ylabel(r'y and f', labelpad=-6, y=0.5)\n"
   ]
  },
  {
   "cell_type": "code",
   "execution_count": null,
   "metadata": {},
   "outputs": [],
   "source": [
    "# {\"name\": \"Pie\", \"title\": \"Show the proportion of each component in the data.\"} \n",
    "fig, ax = plt.subplots(figsize=(3.5, 3))\n",
    "ax.axis(\"off\")\n",
    "\n",
    "# x: Proportions of each component in a pie chart.\n",
    "x = [0.3, 0.1, 0.1]  \n",
    "# labels: Labels of each component in a pie chart.\n",
    "labels = ['label 1', \n",
    "          'label 2',\n",
    "          'label 3'] \n",
    "\n",
    "_ = ax.pie(x, labels=labels,  autopct='%1.1f%%',\n",
    "       wedgeprops={\"linewidth\": 1, \"edgecolor\": \"white\"})\n"
   ]
  },
  {
   "cell_type": "code",
   "execution_count": null,
   "metadata": {},
   "outputs": [],
   "source": [
    "# {\"name\": \"hist\", \"title\": \"Histogram statistical distribution chart.\"} \n",
    "fig, ax = plt.subplots(figsize=(3.5, 3))\n",
    "\n",
    "# `data1` and `data2` are one-dimensional lists of numbers, and usually have a length greater than 200.\n",
    "_ = ax.hist(data1, bins=32, density=True, alpha=0.75, label=\"data 1\")\n",
    "_ = ax.hist(data2, bins=32, density=True, alpha=0.75, label=\"data 2\")\n",
    "\n",
    "ax.set_xlabel(\"x/unit\")\n",
    "ax.set_ylabel(\"density\")\n",
    "\n",
    "_ = ax.legend(frameon=False, loc=0, title='')\n",
    "\n",
    "plt.show()\n"
   ]
  },
  {
   "cell_type": "code",
   "execution_count": null,
   "metadata": {},
   "outputs": [],
   "source": [
    "# {\"name\": \"boxplot\", \"title\": \"Box plot, used to visualize the distribution of multiple sets of data.\"} \n",
    "fig, ax = plt.subplots(figsize=(5,4))\n",
    "\n",
    "# Box properties.\n",
    "boxprops = dict(\n",
    "    facecolor='#ffaaaa',\n",
    "    lw=1,\n",
    "    color='k'\n",
    ")\n",
    "\n",
    "# Median line properties.\n",
    "medianprops = dict(\n",
    "    color='k'\n",
    ")\n",
    "\n",
    "# `data` is a two-dimensional list of numbers.\n",
    "_ = ax.boxplot(data, \n",
    "               patch_artist=True,\n",
    "               boxprops=boxprops,\n",
    "               medianprops=medianprops\n",
    "            )\n",
    "\n",
    "ax.set_xticklabels([\"A\", \"B\", \"C\", \"D\"])\n",
    "ax.set_ylabel(\"y / unit\")\n",
    "\n",
    "plt.show()\n"
   ]
  },
  {
   "cell_type": "markdown",
   "metadata": {},
   "source": [
    "## Axed & Axis"
   ]
  },
  {
   "cell_type": "code",
   "execution_count": null,
   "metadata": {},
   "outputs": [],
   "source": [
    "# {\"name\": \"lim\", \"title\": \"Manually set the upper and lower limits of the X/Y axis.\"} \n",
    "ax.set_xlim([x_min, x_max])\n",
    "ax.set_ylim([y_min, y_max])\n"
   ]
  },
  {
   "cell_type": "code",
   "execution_count": null,
   "metadata": {},
   "outputs": [],
   "source": [
    "# {\"name\": \"axis label\", \"title\": \"Set the labels of the X/Y axis.\"} \n",
    "ax.set_xlabel(\"X / unit\", x=0.5, labelpad=-2, rotation=0)\n",
    "ax.set_ylabel(\"Y / unit\", y=0.5, labelpad=2)\n"
   ]
  },
  {
   "cell_type": "code",
   "execution_count": null,
   "metadata": {},
   "outputs": [],
   "source": [
    "# {\"name\": \"Ticks\", \"title\": \"Set the tick positions of the X/Y axis.\"} \n",
    "ax.set_xticks([0, 1, 2, 3])\n",
    "ax.set_yticks([-1, 0, 1, 2, 3])\n"
   ]
  },
  {
   "cell_type": "code",
   "execution_count": null,
   "metadata": {},
   "outputs": [],
   "source": [
    "# {\"name\": \"Ticklabels\", \"title\": \"Set the tick labels of the X/Y axis.\"} \n",
    "# Note that ensure the lengths of `ticklabels` and `ticks` are consistent.\n",
    "ax.set_xticklabels([0, 1, 2, 3], color='k')\n",
    "ax.set_yticklabels(['a', 'b', 'c','d','e'], color='k')\n"
   ]
  },
  {
   "cell_type": "code",
   "execution_count": null,
   "metadata": {},
   "outputs": [],
   "source": [
    "# {\"name\": \"aspect\", \"title\": \"Set the scale of the Y/X axis.\"} \n",
    "# aspect = dy/dx\n",
    "ax.set_aspect(aspect = 1.0)\n"
   ]
  },
  {
   "cell_type": "code",
   "execution_count": null,
   "metadata": {},
   "outputs": [],
   "source": [
    "# {\"name\": \"Axis Scale\", \"title\": \"Set the distribution of axis ticks. Commonly used are linear and logarithmic.\"} \n",
    "ax.set_yscale(\"log\")\n"
   ]
  },
  {
   "cell_type": "markdown",
   "metadata": {},
   "source": [
    "## Other"
   ]
  },
  {
   "cell_type": "code",
   "execution_count": null,
   "metadata": {},
   "outputs": [],
   "source": [
    "# {\"name\": \"save\", \"title\": \"Save the image. The supported suffixes include png, jpg, pdf, eps, etc.\"} \n",
    "# save picture \n",
    "plt.savefig('filename.png', dpi=300, bbox_inches='tight', transparent=False)\n",
    "plt.savefig('filename.eps', bbox_inches='tight', transparent=False)\n"
   ]
  },
  {
   "cell_type": "code",
   "execution_count": null,
   "metadata": {},
   "outputs": [],
   "source": [
    "# {\"name\": \"style\", \"title\": \"Use different plotting style sheets.\"} \n",
    "# more style: `print(plt.style.available)`\n",
    "plt.style.use('seaborn-v0_8-poster')\n"
   ]
  },
  {
   "cell_type": "code",
   "execution_count": null,
   "metadata": {},
   "outputs": [],
   "source": [
    "# {\"name\": \"legend\", \"title\": \"Add a legend.\"} \n",
    "ax.legend(frameon=False, fontsize=10,\n",
    "           ncols=2,  columnspacing=1.5,\n",
    "           handlelength=2.0, handletextpad=0.2,\n",
    "           loc=3, bbox_to_anchor=(0.32,0.72))\n"
   ]
  },
  {
   "cell_type": "code",
   "execution_count": null,
   "metadata": {},
   "outputs": [],
   "source": [
    "# {\"name\": \"text\", \"title\": \"Add text.\"} \n",
    "ax.text(0.5, 0.5, \"text here\", fontsize=10)\n"
   ]
  },
  {
   "cell_type": "code",
   "execution_count": null,
   "metadata": {},
   "outputs": [],
   "source": [
    "# {\"name\": \"annotate\", \"title\": \"Add annotations, which is equivalent to text plus arrows.\"} \n",
    "ax.annotate('-|>', xy=(0.1, 0.7), xytext=(0.6, 0.8),\n",
    "            arrowprops={\n",
    "                \"arrowstyle\": '-|>',\n",
    "                \"linewidth\":2,\n",
    "                \"facecolor\": 'k',\n",
    "            })\n"
   ]
  },
  {
   "cell_type": "code",
   "execution_count": null,
   "metadata": {},
   "outputs": [],
   "source": [
    "# {\"name\": \"3D Axes\", \"title\": \"Create a 3D coordinate system.\"} \n",
    "fig, ax = plt.subplots(figsize=(3, 2),\n",
    "                        subplot_kw={'projection': '3d'})\n",
    "                        "
   ]
  },
  {
   "cell_type": "code",
   "execution_count": null,
   "metadata": {},
   "outputs": [],
   "source": [
    "# {\"name\": \"fill\", \"title\": \"Fill colors within a specified range.\"} \n",
    "_ = ax.fill_between(x, 0, y, alpha=0.5)\n"
   ]
  },
  {
   "cell_type": "code",
   "execution_count": null,
   "metadata": {},
   "outputs": [],
   "source": [
    "# {\"name\": \"Axes Span\", \"title\": \"Set the background color within a certain interval.\"} \n",
    "# `axhspan` and `hlines` are in the horizontal direction. \n",
    "# `axvspan` and `vlines` are in the vertical direction. \n",
    "# The parameters also need to be adjusted to `ymin` and `ymax`.\n",
    "ax.axhspan(0.7, 0.9, color='lightgray', alpha=0.8)\n",
    "ax.hlines([0.7,0.9], xmin=0, xmax=0.5, lw=1, color='k', alpha=0.8)\n"
   ]
  },
  {
   "cell_type": "code",
   "execution_count": null,
   "metadata": {},
   "outputs": [],
   "source": [
    "# {\"name\": \"Layout\", \"title\": \"Create an image with multiple coordinate systems.\"} \n",
    "fig, axs = plt.subplots(nrows=1, ncols=2, \n",
    "                        figsize=(7, 3),\n",
    "                        gridspec_kw={\n",
    "                            \"width_ratios\": [0.5, 0.5],\n",
    "                            \"wspace\": 0.25\n",
    "                        })\n"
   ]
  },
  {
   "cell_type": "code",
   "execution_count": null,
   "metadata": {},
   "outputs": [],
   "source": [
    "# {\"name\": \"grid\", \"title\": \"Add grid\"} \n",
    "# axis='y'|'x'|'both'\n",
    "ax.grid(True, axis='y', lw=2, ls='--', color='gray', alpha=0.6)\n"
   ]
  }
 ],
 "metadata": {
  "kernelspec": {
   "display_name": "Python 3",
   "language": "python",
   "name": "python3"
  },
  "language_info": {
   "codemirror_mode": {
    "name": "ipython",
    "version": 3
   },
   "file_extension": ".py",
   "mimetype": "text/x-python",
   "name": "python",
   "nbconvert_exporter": "python",
   "pygments_lexer": "ipython3",
   "version": "3.11.7"
  }
 },
 "nbformat": 4,
 "nbformat_minor": 2
}
